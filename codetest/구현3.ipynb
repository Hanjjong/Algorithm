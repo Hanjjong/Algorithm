{
 "cells": [
  {
   "cell_type": "code",
   "execution_count": null,
   "metadata": {},
   "outputs": [],
   "source": [
    "pos = input()\n",
    "\n",
    "row = int(pos[1])\n",
    "col = int(ord(pos[0]) - ord('a')) + 1\n",
    "\n",
    "move = [(-2, 1), (-2, 1), (2, 1), (2, -1), (1, 2), (1, -2), (-1, 2), (-1, -2)]\n",
    "result = 0\n",
    "\n",
    "for step in move:\n",
    "    next_row = row + step[0]\n",
    "    next_col = col + step[1]\n",
    "    if next_row >=1 & next_row <= 8 & next_col >= 1 & next_col <= 8:\n",
    "        result+=1\n",
    "print(result)"
   ]
  }
 ],
 "metadata": {
  "kernelspec": {
   "display_name": "Python 3",
   "language": "python",
   "name": "python3"
  },
  "language_info": {
   "name": "python",
   "version": "3.10.9"
  },
  "orig_nbformat": 4,
  "vscode": {
   "interpreter": {
    "hash": "945b8389a561b8e136b4b31125d2c8cb5e41802eb6c6a0f118fa26af96ccec28"
   }
  }
 },
 "nbformat": 4,
 "nbformat_minor": 2
}
