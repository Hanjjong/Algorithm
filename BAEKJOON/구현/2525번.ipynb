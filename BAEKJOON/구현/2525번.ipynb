{
 "cells": [
  {
   "cell_type": "code",
   "execution_count": 68,
   "metadata": {},
   "outputs": [],
   "source": [
    "hour, min = map(int, input().split())\n",
    "time = int(input())"
   ]
  },
  {
   "cell_type": "code",
   "execution_count": 69,
   "metadata": {},
   "outputs": [],
   "source": [
    "time1 = int(time/60)\n",
    "time2 = time%60"
   ]
  },
  {
   "cell_type": "code",
   "execution_count": 70,
   "metadata": {},
   "outputs": [],
   "source": [
    "hour += time1\n",
    "min += time2"
   ]
  },
  {
   "cell_type": "code",
   "execution_count": 71,
   "metadata": {},
   "outputs": [],
   "source": [
    "if min >= 60:\n",
    "    hour = hour + int(min /60)\n",
    "    min = min % 60\n",
    "    \n",
    "if hour >= 24:\n",
    "    hour = hour % 24"
   ]
  },
  {
   "cell_type": "code",
   "execution_count": 72,
   "metadata": {},
   "outputs": [
    {
     "name": "stdout",
     "output_type": "stream",
     "text": [
      "12 50\n"
     ]
    }
   ],
   "source": [
    "print(hour, min)"
   ]
  }
 ],
 "metadata": {
  "kernelspec": {
   "display_name": "Python 3",
   "language": "python",
   "name": "python3"
  },
  "language_info": {
   "codemirror_mode": {
    "name": "ipython",
    "version": 3
   },
   "file_extension": ".py",
   "mimetype": "text/x-python",
   "name": "python",
   "nbconvert_exporter": "python",
   "pygments_lexer": "ipython3",
   "version": "3.10.9"
  },
  "orig_nbformat": 4,
  "vscode": {
   "interpreter": {
    "hash": "945b8389a561b8e136b4b31125d2c8cb5e41802eb6c6a0f118fa26af96ccec28"
   }
  }
 },
 "nbformat": 4,
 "nbformat_minor": 2
}
